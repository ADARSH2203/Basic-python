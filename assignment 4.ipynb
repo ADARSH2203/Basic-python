{
 "cells": [
  {
   "cell_type": "raw",
   "metadata": {},
   "source": [
    "1.\tWrite a Python Program to Find the Factorial of a Number?\n",
    "2.\tWrite a Python Program to Display the multiplication Table?\n",
    "3.\tWrite a Python Program to Print the Fibonacci sequence?\n",
    "4.\tWrite a Python Program to Check Armstrong Number?\n",
    "5.\tWrite a Python Program to Find Armstrong Number in an Interval?\n",
    "6.\tWrite a Python Program to Find the Sum of Natural Numbers?\n"
   ]
  },
  {
   "cell_type": "code",
   "execution_count": 1,
   "metadata": {},
   "outputs": [],
   "source": [
    "a=5\n",
    "for i in range(a-1,0):\n",
    "    print(i)"
   ]
  },
  {
   "cell_type": "code",
   "execution_count": 2,
   "metadata": {},
   "outputs": [
    {
     "data": {
      "text/plain": [
       "range(4, 0)"
      ]
     },
     "execution_count": 2,
     "metadata": {},
     "output_type": "execute_result"
    }
   ],
   "source": [
    "range(5-1,0)"
   ]
  },
  {
   "cell_type": "code",
   "execution_count": 12,
   "metadata": {},
   "outputs": [
    {
     "name": "stdout",
     "output_type": "stream",
     "text": [
      "1  \n",
      "2  \n",
      "3  \n"
     ]
    }
   ],
   "source": [
    "for i in range(1,4):\n",
    "    print(i,'')"
   ]
  },
  {
   "cell_type": "code",
   "execution_count": 5,
   "metadata": {},
   "outputs": [
    {
     "name": "stdout",
     "output_type": "stream",
     "text": [
      "this is factorial no5\n",
      "24\n"
     ]
    }
   ],
   "source": [
    "# solution 1 (method 1)\n",
    "a=int(input('this is factorial no '))\n",
    "a=list(range(1,a))\n",
    "b=1\n",
    "for i in a:\n",
    "    b=b*i\n",
    "print(b)"
   ]
  },
  {
   "cell_type": "code",
   "execution_count": 8,
   "metadata": {},
   "outputs": [
    {
     "name": "stdout",
     "output_type": "stream",
     "text": [
      "this is factorial no 5\n",
      "factorial is 24\n"
     ]
    }
   ],
   "source": [
    "# sol1(method1)\n",
    "import numpy as np\n",
    "a=int(input('this is factorial no '))\n",
    "a=list(range(1,a))\n",
    "b=np.prod(a)\n",
    "print('factorial is',b)"
   ]
  },
  {
   "cell_type": "code",
   "execution_count": 2,
   "metadata": {},
   "outputs": [
    {
     "name": "stdout",
     "output_type": "stream",
     "text": [
      "this is table of : 20\n",
      "20  *  1 = 20\n",
      "20  *  2 = 40\n",
      "20  *  3 = 60\n",
      "20  *  4 = 80\n",
      "20  *  5 = 100\n",
      "20  *  6 = 120\n",
      "20  *  7 = 140\n",
      "20  *  8 = 160\n",
      "20  *  9 = 180\n",
      "20  *  10 = 200\n"
     ]
    }
   ],
   "source": [
    "# solution 2\n",
    "a=int(input('this is table of : '))\n",
    "for i in range(1,11):\n",
    "    print(a,' * ',i,'=',a*i)"
   ]
  },
  {
   "cell_type": "code",
   "execution_count": 37,
   "metadata": {},
   "outputs": [
    {
     "name": "stdout",
     "output_type": "stream",
     "text": [
      "the required fiboncci nos of element is : 10\n",
      "0\n",
      "1\n",
      "1\n",
      "2\n",
      "3\n",
      "5\n",
      "8\n",
      "13\n",
      "21\n",
      "34\n"
     ]
    }
   ],
   "source": [
    "# Write a Python Program to Print the Fibonacci sequence\n",
    "# fibonacci no = 0,1,1,2,3,5,8,13....\n",
    "#sol3\n",
    "n=int(input('the required fiboncci nos of element is : '))\n",
    "a=0\n",
    "b=1\n",
    "print(a)\n",
    "print(b)\n",
    "\n",
    "for i in range(2,n):\n",
    "    c=a+b\n",
    "    a=b\n",
    "    b=c\n",
    "    \n",
    "    print(c)\n",
    "    \n",
    "   \n",
    "    "
   ]
  },
  {
   "cell_type": "code",
   "execution_count": 31,
   "metadata": {},
   "outputs": [
    {
     "name": "stdout",
     "output_type": "stream",
     "text": [
      "is this armstrong no 370\n",
      " is armstrong\n"
     ]
    }
   ],
   "source": [
    "# Write a Python Program to Check Armstrong Number\n",
    "#solution 4\n",
    "a=input('is this armstrong no ')\n",
    "\n",
    "b=int(a[0])\n",
    "c=int(a[1])\n",
    "d=int(a[2])\n",
    "\n",
    "if (b ** 3) + (c ** 3) + (d ** 3) == int(a):\n",
    "    print(' is armstrong')\n",
    "else:\n",
    "    print('not')\n",
    "    "
   ]
  },
  {
   "cell_type": "code",
   "execution_count": null,
   "metadata": {},
   "outputs": [],
   "source": [
    "#Write a Python Program to Find Armstrong Number in an Interval\n",
    "\n",
    "a=list(range(0,int(input('arms no till '))))\n",
    "\n",
    "b=int(a[0])\n",
    "c=int(a[1])\n",
    "d=int(a[2])\n",
    "\n",
    "for i in range(0,a):\n",
    "    \n",
    "if (b ** 3) + (c ** 3) + (d ** 3) == int(a):\n",
    "    print(' is armstrong')\n",
    "else:\n",
    "    print('not')\n",
    "    "
   ]
  },
  {
   "cell_type": "code",
   "execution_count": 32,
   "metadata": {},
   "outputs": [
    {
     "name": "stdout",
     "output_type": "stream",
     "text": [
      "arms no till 10\n"
     ]
    },
    {
     "data": {
      "text/plain": [
       "[0, 1, 2, 3, 4, 5, 6, 7, 8, 9]"
      ]
     },
     "execution_count": 32,
     "metadata": {},
     "output_type": "execute_result"
    }
   ],
   "source": [
    "a=list(range(0,int(input('arms no till '))))\n",
    "a"
   ]
  },
  {
   "cell_type": "code",
   "execution_count": null,
   "metadata": {},
   "outputs": [],
   "source": []
  },
  {
   "cell_type": "code",
   "execution_count": 26,
   "metadata": {},
   "outputs": [
    {
     "name": "stdout",
     "output_type": "stream",
     "text": [
      "sum of natural nos of 20\n"
     ]
    },
    {
     "data": {
      "text/plain": [
       "210"
      ]
     },
     "execution_count": 26,
     "metadata": {},
     "output_type": "execute_result"
    }
   ],
   "source": [
    "# Write a Python Program to Find the Sum of Natural Numbers\n",
    "# soluion 6\n",
    "a=int(input('sum of natural nos of '))\n",
    "sum(range(1,a+1))"
   ]
  },
  {
   "cell_type": "code",
   "execution_count": null,
   "metadata": {},
   "outputs": [],
   "source": []
  }
 ],
 "metadata": {
  "kernelspec": {
   "display_name": "Python 3",
   "language": "python",
   "name": "python3"
  },
  "language_info": {
   "codemirror_mode": {
    "name": "ipython",
    "version": 3
   },
   "file_extension": ".py",
   "mimetype": "text/x-python",
   "name": "python",
   "nbconvert_exporter": "python",
   "pygments_lexer": "ipython3",
   "version": "3.7.6"
  }
 },
 "nbformat": 4,
 "nbformat_minor": 4
}
