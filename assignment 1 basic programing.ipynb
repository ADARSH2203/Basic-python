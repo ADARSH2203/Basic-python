{
 "cells": [
  {
   "cell_type": "markdown",
   "metadata": {},
   "source": [
    "# PROBLEMS"
   ]
  },
  {
   "cell_type": "raw",
   "metadata": {},
   "source": [
    "1.\tWrite a Python program to print \"Hello Python\"?\n",
    "2.\tWrite a Python program to do arithmetical operations addition and division.?\n",
    "3.\tWrite a Python program to find the area of a triangle?\n",
    "4.\tWrite a Python program to swap two variables?\n",
    "5.\tWrite a Python program to generate a random number?\n"
   ]
  },
  {
   "cell_type": "markdown",
   "metadata": {},
   "source": [
    "## SOLUTIONS"
   ]
  },
  {
   "cell_type": "code",
   "execution_count": 1,
   "metadata": {},
   "outputs": [
    {
     "name": "stdout",
     "output_type": "stream",
     "text": [
      "Hello Python\n"
     ]
    }
   ],
   "source": [
    "# Ques1\n",
    "print('Hello Python')"
   ]
  },
  {
   "cell_type": "code",
   "execution_count": 3,
   "metadata": {},
   "outputs": [
    {
     "name": "stdout",
     "output_type": "stream",
     "text": [
      "this is my a10\n",
      "this is my b5\n"
     ]
    },
    {
     "data": {
      "text/plain": [
       "15"
      ]
     },
     "execution_count": 3,
     "metadata": {},
     "output_type": "execute_result"
    }
   ],
   "source": [
    "# Ques2\n",
    "a=int(input('this is my a'))\n",
    "b=int(input('this is my b'))\n",
    "\n",
    "c= a+b\n",
    "c"
   ]
  },
  {
   "cell_type": "code",
   "execution_count": 4,
   "metadata": {},
   "outputs": [
    {
     "name": "stdout",
     "output_type": "stream",
     "text": [
      "this is my a5\n",
      "this is my b4\n"
     ]
    },
    {
     "data": {
      "text/plain": [
       "1.25"
      ]
     },
     "execution_count": 4,
     "metadata": {},
     "output_type": "execute_result"
    }
   ],
   "source": [
    "# Ques2\n",
    "a=int(input('this is my a'))\n",
    "b=int(input('this is my b'))\n",
    "\n",
    "c= a/b\n",
    "c"
   ]
  },
  {
   "cell_type": "code",
   "execution_count": 6,
   "metadata": {},
   "outputs": [
    {
     "name": "stdout",
     "output_type": "stream",
     "text": [
      "this is base of triangle 5\n",
      "this is height of triangle 6\n"
     ]
    },
    {
     "data": {
      "text/plain": [
       "15.0"
      ]
     },
     "execution_count": 6,
     "metadata": {},
     "output_type": "execute_result"
    }
   ],
   "source": [
    "# Ques3\n",
    "b=int(input('this is base of triangle '))\n",
    "h =int(input('this is height of triangle '))\n",
    "area=0.5*b*h\n",
    "area"
   ]
  },
  {
   "cell_type": "code",
   "execution_count": 11,
   "metadata": {},
   "outputs": [
    {
     "name": "stdout",
     "output_type": "stream",
     "text": [
      "vaue of a : 10\n",
      "value of b : 5\n"
     ]
    }
   ],
   "source": [
    "# Ques 4\n",
    "#method 1\n",
    "a=5\n",
    "b=10\n",
    "a=a+b\n",
    "b=a-b\n",
    "a=-(b-a)\n",
    "\n",
    "print('vaue of a :',a)\n",
    "print('value of b :',b)"
   ]
  },
  {
   "cell_type": "code",
   "execution_count": 16,
   "metadata": {},
   "outputs": [
    {
     "name": "stdout",
     "output_type": "stream",
     "text": [
      "vaue of a : 10\n",
      "value of b : 5\n"
     ]
    }
   ],
   "source": [
    "# method 2 ,using 3rd variable\n",
    "a=5\n",
    "b=10\n",
    "temp=a\n",
    "a=b\n",
    "b=temp\n",
    "\n",
    "print('vaue of a :',a)\n",
    "print('value of b :',b)"
   ]
  },
  {
   "cell_type": "code",
   "execution_count": 20,
   "metadata": {},
   "outputs": [
    {
     "name": "stdout",
     "output_type": "stream",
     "text": [
      "vaue of a : 10\n",
      "value of b : 5\n"
     ]
    }
   ],
   "source": [
    "# Method 3, using XOR (as more bits of data is used)\n",
    "a=5\n",
    "b=10\n",
    "a=a^b\n",
    "b=a^b\n",
    "a=(b^a)\n",
    "print('vaue of a :',a)\n",
    "print('value of b :',b)"
   ]
  },
  {
   "cell_type": "code",
   "execution_count": 15,
   "metadata": {},
   "outputs": [
    {
     "name": "stdout",
     "output_type": "stream",
     "text": [
      "vaue of a : 10\n",
      "value of b : 5\n"
     ]
    }
   ],
   "source": [
    "# method 4,rot2 ,stack\n",
    "a=5\n",
    "b=10\n",
    "a,b=b,a\n",
    "print('vaue of a :',a)\n",
    "print('value of b :',b)"
   ]
  },
  {
   "cell_type": "markdown",
   "metadata": {},
   "source": [
    "## RANDOM NO GENRATION"
   ]
  },
  {
   "cell_type": "code",
   "execution_count": 28,
   "metadata": {},
   "outputs": [
    {
     "name": "stdout",
     "output_type": "stream",
     "text": [
      "0.7009498595698138\n"
     ]
    }
   ],
   "source": [
    "# Ques 5\n",
    "# Method 1\n",
    "import random as rd\n",
    "num=rd.random()#any random no b\\w 0,1\n",
    "print(num)"
   ]
  },
  {
   "cell_type": "code",
   "execution_count": 29,
   "metadata": {},
   "outputs": [
    {
     "name": "stdout",
     "output_type": "stream",
     "text": [
      "19\n"
     ]
    }
   ],
   "source": [
    "num=rd.randint(10,20)#any int random value b\\w 10,20\n",
    "print(num)"
   ]
  },
  {
   "cell_type": "code",
   "execution_count": 33,
   "metadata": {},
   "outputs": [
    {
     "name": "stdout",
     "output_type": "stream",
     "text": [
      "12\n"
     ]
    }
   ],
   "source": [
    "num=rd.randrange(10,20,2)#will give even random nos\n",
    "print(num)"
   ]
  },
  {
   "cell_type": "code",
   "execution_count": 35,
   "metadata": {},
   "outputs": [
    {
     "name": "stdout",
     "output_type": "stream",
     "text": [
      "18.781426749643565\n"
     ]
    }
   ],
   "source": [
    "num=rd.uniform(10,20)#will give float random no\n",
    "print(num)"
   ]
  },
  {
   "cell_type": "code",
   "execution_count": 39,
   "metadata": {},
   "outputs": [
    {
     "name": "stdout",
     "output_type": "stream",
     "text": [
      "[60, 40, 45, 95, 70, 90, 65, 80, 30, 15]\n"
     ]
    }
   ],
   "source": [
    "numlist=rd.sample(range(10,100,5),10)#list of random nos\n",
    "print(numlist)"
   ]
  },
  {
   "cell_type": "code",
   "execution_count": null,
   "metadata": {},
   "outputs": [],
   "source": []
  }
 ],
 "metadata": {
  "kernelspec": {
   "display_name": "Python 3",
   "language": "python",
   "name": "python3"
  },
  "language_info": {
   "codemirror_mode": {
    "name": "ipython",
    "version": 3
   },
   "file_extension": ".py",
   "mimetype": "text/x-python",
   "name": "python",
   "nbconvert_exporter": "python",
   "pygments_lexer": "ipython3",
   "version": "3.7.6"
  }
 },
 "nbformat": 4,
 "nbformat_minor": 4
}
