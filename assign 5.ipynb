{
 "cells": [
  {
   "cell_type": "raw",
   "metadata": {},
   "source": [
    "1.\tWrite a Python Program to Find LCM?\n",
    "2.\tWrite a Python Program to Find HCF?\n",
    "3.\tWrite a Python Program to Convert Decimal to Binary, Octal and Hexadecimal?\n",
    "4.\tWrite a Python Program To Find ASCII value of a character?\n",
    "5.\tWrite a Python Program to Make a Simple Calculator with 4 basic mathematical operations?\n"
   ]
  },
  {
   "cell_type": "code",
   "execution_count": 27,
   "metadata": {},
   "outputs": [
    {
     "name": "stdout",
     "output_type": "stream",
     "text": [
      "[2, 5, 3, 4, 6]\n",
      "LCM of 10 and 12 is 1440\n"
     ]
    }
   ],
   "source": [
    "a=10\n",
    "b=12\n",
    "\n",
    "l=[]\n",
    "\n",
    "for i in range(2,a):\n",
    "    if a%i == 0:\n",
    "        l.append(i)\n",
    "for j in range(2,b):\n",
    "    if b%j == 0:\n",
    "        l.append(j)\n",
    "        \n",
    "unique_list = list(dict.fromkeys(l))\n",
    "print(unique_list)\n",
    "\n",
    "import numpy\n",
    "k=numpy.prod(l)\n",
    "print('LCM of',a,'and',b,'is',k)"
   ]
  },
  {
   "cell_type": "code",
   "execution_count": null,
   "metadata": {},
   "outputs": [],
   "source": [
    "a=10\n",
    "b=12\n",
    "\n",
    "l=[]\n",
    "\n",
    "for i in range(2,a):\n",
    "    if a%i == 0:\n",
    "        print(i,end=\" \")\n",
    "        l.append(i)\n",
    "for j in range(2,b):\n",
    "    if b%j == 0:\n",
    "        print(j,end=\" \")\n",
    "        l.append(j)\n",
    "        \n",
    "print(l)"
   ]
  },
  {
   "cell_type": "code",
   "execution_count": 21,
   "metadata": {},
   "outputs": [
    {
     "name": "stdout",
     "output_type": "stream",
     "text": [
      "80\n",
      "100\n",
      "LCM of  80 and 100 is 100\n"
     ]
    }
   ],
   "source": [
    "# solution 01\n",
    "\n",
    "a=int(input())\n",
    "b=int(input())\n",
    "\n",
    "l1=[]\n",
    "l2=[]\n",
    "\n",
    "for i in range(1,100000):\n",
    "    l1.append(i*a)\n",
    "for j in range(1,100000):\n",
    "    l2.append(j*b)\n",
    "    \n",
    "l3= set(l1)and set(l2)\n",
    "print('LCM of ',a,'and',b,'is',min(l3))"
   ]
  },
  {
   "cell_type": "code",
   "execution_count": 40,
   "metadata": {},
   "outputs": [
    {
     "name": "stdout",
     "output_type": "stream",
     "text": [
      "24\n",
      "36\n",
      "LCM of  24 and 36 is 36\n"
     ]
    }
   ],
   "source": [
    "#sol1 (method2)\n",
    "def lcm(a,b):\n",
    "    if a>b:\n",
    "        greater=a\n",
    "    else:\n",
    "        greater=b\n",
    "    value = greater\n",
    "    while True:\n",
    "        if greater%a and greater%b == 0:\n",
    "            print('LCM of ',a,'and',b,'is',greater)\n",
    "            break\n",
    "    else:\n",
    "        greater=greater + value\n",
    "        \n",
    "a=int(input())\n",
    "b=int(input())\n",
    "lcm(a,b)"
   ]
  },
  {
   "cell_type": "code",
   "execution_count": 38,
   "metadata": {},
   "outputs": [
    {
     "ename": "KeyboardInterrupt",
     "evalue": "",
     "output_type": "error",
     "traceback": [
      "\u001b[1;31m---------------------------------------------------------------------------\u001b[0m",
      "\u001b[1;31mKeyboardInterrupt\u001b[0m                         Traceback (most recent call last)",
      "\u001b[1;32m<ipython-input-38-767b047009b1>\u001b[0m in \u001b[0;36m<module>\u001b[1;34m\u001b[0m\n\u001b[1;32m----> 1\u001b[1;33m \u001b[0mlcm\u001b[0m\u001b[1;33m(\u001b[0m\u001b[1;36m2\u001b[0m\u001b[1;33m,\u001b[0m\u001b[1;36m4\u001b[0m\u001b[1;33m)\u001b[0m\u001b[1;33m\u001b[0m\u001b[1;33m\u001b[0m\u001b[0m\n\u001b[0m",
      "\u001b[1;32m<ipython-input-37-3fc6b7a12170>\u001b[0m in \u001b[0;36mlcm\u001b[1;34m(a, b)\u001b[0m\n\u001b[0;32m      6\u001b[0m     \u001b[0mvalue\u001b[0m \u001b[1;33m=\u001b[0m \u001b[0mgreater\u001b[0m\u001b[1;33m\u001b[0m\u001b[1;33m\u001b[0m\u001b[0m\n\u001b[0;32m      7\u001b[0m     \u001b[1;32mwhile\u001b[0m \u001b[1;32mTrue\u001b[0m\u001b[1;33m:\u001b[0m\u001b[1;33m\u001b[0m\u001b[1;33m\u001b[0m\u001b[0m\n\u001b[1;32m----> 8\u001b[1;33m         \u001b[1;32mif\u001b[0m \u001b[0mgreater\u001b[0m\u001b[1;33m%\u001b[0m\u001b[0ma\u001b[0m \u001b[1;32mand\u001b[0m \u001b[0mgreater\u001b[0m\u001b[1;33m%\u001b[0m\u001b[0mb\u001b[0m \u001b[1;33m==\u001b[0m \u001b[1;36m0\u001b[0m\u001b[1;33m:\u001b[0m\u001b[1;33m\u001b[0m\u001b[1;33m\u001b[0m\u001b[0m\n\u001b[0m\u001b[0;32m      9\u001b[0m             \u001b[0mprint\u001b[0m\u001b[1;33m(\u001b[0m\u001b[1;34m'LCM of '\u001b[0m\u001b[1;33m,\u001b[0m\u001b[0ma\u001b[0m\u001b[1;33m,\u001b[0m\u001b[1;34m'and'\u001b[0m\u001b[1;33m,\u001b[0m\u001b[0mb\u001b[0m\u001b[1;33m,\u001b[0m\u001b[1;34m'is'\u001b[0m\u001b[1;33m,\u001b[0m\u001b[0mgreater\u001b[0m\u001b[1;33m)\u001b[0m\u001b[1;33m\u001b[0m\u001b[1;33m\u001b[0m\u001b[0m\n\u001b[0;32m     10\u001b[0m             \u001b[1;32mbreak\u001b[0m\u001b[1;33m\u001b[0m\u001b[1;33m\u001b[0m\u001b[0m\n",
      "\u001b[1;31mKeyboardInterrupt\u001b[0m: "
     ]
    }
   ],
   "source": []
  },
  {
   "cell_type": "code",
   "execution_count": 27,
   "metadata": {},
   "outputs": [
    {
     "name": "stdout",
     "output_type": "stream",
     "text": [
      "first no is 4\n",
      "2nd no is 6\n",
      "HCF of  4 & 6 is 2\n"
     ]
    }
   ],
   "source": [
    "# solution 2\n",
    "a=int(input('first no is '))\n",
    "b=int(input('2nd no is '))\n",
    "\n",
    "l=[]\n",
    "\n",
    "for i in range(2,a):\n",
    "    if a%i==0:\n",
    "        l.append(i)\n",
    "for j in range(2,b):\n",
    "    if a%j==0:\n",
    "        l.append(j)\n",
    "        \n",
    "unique_list = list(dict.fromkeys(l))\n",
    "print('HCF of ',a,'&',b,'is',min(unique_list))\n"
   ]
  },
  {
   "cell_type": "code",
   "execution_count": 3,
   "metadata": {},
   "outputs": [
    {
     "name": "stdout",
     "output_type": "stream",
     "text": [
      "the no to be converted  is 5\n",
      "decimal value of '5'is'0b101 in binary format,0o5 in octal and 0x5 in hexadecimal format\n"
     ]
    }
   ],
   "source": [
    "# Write a Python Program to Convert Decimal to Binary, Octal and Hexadecimal?\n",
    "# sol3\n",
    "a=int(input('the no to be converted  is '))\n",
    "print(f\"decimal value of '{a}'is'{bin(a)} in binary format,{oct(a)} in octal and {hex(a)} in hexadecimal format\")"
   ]
  },
  {
   "cell_type": "code",
   "execution_count": 4,
   "metadata": {},
   "outputs": [
    {
     "name": "stdout",
     "output_type": "stream",
     "text": [
      "d\n",
      "100 is ASCII value of character\n"
     ]
    }
   ],
   "source": [
    "#Write a Python Program To Find ASCII value of a character\n",
    "# sol4\n",
    "a=input()\n",
    "print(f\"{ord(a)} is ASCII value of character\")"
   ]
  },
  {
   "cell_type": "code",
   "execution_count": 22,
   "metadata": {},
   "outputs": [],
   "source": [
    "# Write a Python Program to Make a Simple Calculator with 4 basic mathematical operations?\n",
    "# sol 5\n",
    "\n",
    "def calculate(operation,num1,num2):\n",
    "    if (operation=='sum'):\n",
    "        result=num1+num2\n",
    "        print(f\"sum of {num1} and {num2} is {result}\")\n",
    "    if (operation=='subs'):\n",
    "        result=num1-num2\n",
    "        print(f\"subs of {num1} and {num2} is {result}\")\n",
    "    if (operation == 'division'):\n",
    "        result=num1/num2\n",
    "        print(f\"divi of {num1} and {num2} is {result}\")\n",
    "    if (operation=='mult'):\n",
    "        result=num1*num2\n",
    "        print(f\"mult of {num1} and {num2} is {result}\")\n",
    "        return result    "
   ]
  },
  {
   "cell_type": "code",
   "execution_count": 24,
   "metadata": {},
   "outputs": [
    {
     "name": "stdout",
     "output_type": "stream",
     "text": [
      "mult of 4 and 5 is 20\n"
     ]
    },
    {
     "data": {
      "text/plain": [
       "20"
      ]
     },
     "execution_count": 24,
     "metadata": {},
     "output_type": "execute_result"
    }
   ],
   "source": [
    "calculate(\"mult\",4,5)"
   ]
  },
  {
   "cell_type": "code",
   "execution_count": null,
   "metadata": {},
   "outputs": [],
   "source": []
  }
 ],
 "metadata": {
  "kernelspec": {
   "display_name": "Python 3",
   "language": "python",
   "name": "python3"
  },
  "language_info": {
   "codemirror_mode": {
    "name": "ipython",
    "version": 3
   },
   "file_extension": ".py",
   "mimetype": "text/x-python",
   "name": "python",
   "nbconvert_exporter": "python",
   "pygments_lexer": "ipython3",
   "version": "3.7.6"
  }
 },
 "nbformat": 4,
 "nbformat_minor": 4
}
